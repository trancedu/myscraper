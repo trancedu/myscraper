{
 "cells": [
  {
   "cell_type": "code",
   "execution_count": 1,
   "id": "78dea1d9",
   "metadata": {},
   "outputs": [],
   "source": [
    "import numpy as np\n",
    "import pandas as pd\n",
    "import time"
   ]
  },
  {
   "cell_type": "code",
   "execution_count": 3,
   "id": "b44501dc",
   "metadata": {},
   "outputs": [
    {
     "name": "stdout",
     "output_type": "stream",
     "text": [
      "__init__.py     items.py        pipelines.py    showcsv.ipynb\r\n",
      "\u001b[34m__pycache__\u001b[m\u001b[m/    middlewares.py  settings.py     \u001b[34mspiders\u001b[m\u001b[m/\r\n"
     ]
    }
   ],
   "source": [
    "ls"
   ]
  },
  {
   "cell_type": "code",
   "execution_count": 18,
   "id": "75b10535",
   "metadata": {},
   "outputs": [
    {
     "data": {
      "text/html": [
       "<div>\n",
       "<style scoped>\n",
       "    .dataframe tbody tr th:only-of-type {\n",
       "        vertical-align: middle;\n",
       "    }\n",
       "\n",
       "    .dataframe tbody tr th {\n",
       "        vertical-align: top;\n",
       "    }\n",
       "\n",
       "    .dataframe thead th {\n",
       "        text-align: right;\n",
       "    }\n",
       "</style>\n",
       "<table border=\"1\" class=\"dataframe\">\n",
       "  <thead>\n",
       "    <tr style=\"text-align: right;\">\n",
       "      <th></th>\n",
       "      <th>date</th>\n",
       "      <th>title</th>\n",
       "      <th>link</th>\n",
       "      <th>content</th>\n",
       "    </tr>\n",
       "  </thead>\n",
       "  <tbody>\n",
       "    <tr>\n",
       "      <th>0</th>\n",
       "      <td>2021-09-30 00:08:19</td>\n",
       "      <td>Why China's Latest 'Bitcoin Ban' Is Bullish fo...</td>\n",
       "      <td>https://wp.decrypt.co/82243/china-bans-bitcoin...</td>\n",
       "      <td>NaN</td>\n",
       "    </tr>\n",
       "    <tr>\n",
       "      <th>1</th>\n",
       "      <td>2021-09-29 21:35:47</td>\n",
       "      <td>Why Anett Rolikova of Ethereum Magicians Doesn...</td>\n",
       "      <td>https://wp.decrypt.co/82234/why-anett-rolikova...</td>\n",
       "      <td>EIP-1559, the August  protocol change to \"burn...</td>\n",
       "    </tr>\n",
       "    <tr>\n",
       "      <th>2</th>\n",
       "      <td>2021-09-29 21:01:08</td>\n",
       "      <td>Bitcoin DeFi? It's a Thing, Says Stacks Founde...</td>\n",
       "      <td>https://wp.decrypt.co/82019/bitcoin-defi-thing...</td>\n",
       "      <td>BitcoinBitcoinBitcoin</td>\n",
       "    </tr>\n",
       "    <tr>\n",
       "      <th>3</th>\n",
       "      <td>2021-09-29 19:36:02</td>\n",
       "      <td>PayPal, Google Execs to Help Bank of England '...</td>\n",
       "      <td>https://wp.decrypt.co/82223/bank-england-cbdc-...</td>\n",
       "      <td>The Bank of England today announced members of...</td>\n",
       "    </tr>\n",
       "    <tr>\n",
       "      <th>4</th>\n",
       "      <td>2021-09-29 18:28:59</td>\n",
       "      <td>Twitter Shares Sneak Peek of Its Ethereum NFT ...</td>\n",
       "      <td>https://wp.decrypt.co/82216/twitter-shares-sne...</td>\n",
       "      <td>The Crypto Twitter elite either covet or derid...</td>\n",
       "    </tr>\n",
       "    <tr>\n",
       "      <th>...</th>\n",
       "      <td>...</td>\n",
       "      <td>...</td>\n",
       "      <td>...</td>\n",
       "      <td>...</td>\n",
       "    </tr>\n",
       "    <tr>\n",
       "      <th>4995</th>\n",
       "      <td>2020-08-26 18:40:57</td>\n",
       "      <td>Coincheck Wants to Bring the IEO to Japanese C...</td>\n",
       "      <td>https://wp.decrypt.co/39894/coincheck-wants-to...</td>\n",
       "      <td>DeFi may be all the rage, but Japanese crypto ...</td>\n",
       "    </tr>\n",
       "    <tr>\n",
       "      <th>4996</th>\n",
       "      <td>2020-08-26 18:38:36</td>\n",
       "      <td>DeFi Die-Hards Call Time Out With 'Fair Launch...</td>\n",
       "      <td>https://wp.decrypt.co/39889/defi-die-hards-cal...</td>\n",
       "      <td>NaN</td>\n",
       "    </tr>\n",
       "    <tr>\n",
       "      <th>4997</th>\n",
       "      <td>2020-08-26 18:13:06</td>\n",
       "      <td>Closure of Darknet Empire Market Believed to B...</td>\n",
       "      <td>https://wp.decrypt.co/39886/closure-darknet-em...</td>\n",
       "      <td>Empire Market, the largest darknet marketplace...</td>\n",
       "    </tr>\n",
       "    <tr>\n",
       "      <th>4998</th>\n",
       "      <td>2020-08-26 15:55:23</td>\n",
       "      <td>Cardano Pays out Higher Staking Rewards Than E...</td>\n",
       "      <td>https://wp.decrypt.co/39875/cardano-pays-out-h...</td>\n",
       "      <td>At the end of last month,  shipped its highly ...</td>\n",
       "    </tr>\n",
       "    <tr>\n",
       "      <th>4999</th>\n",
       "      <td>2020-08-26 14:31:12</td>\n",
       "      <td>The Day Someone Created 184 Billion Bitcoin</td>\n",
       "      <td>https://wp.decrypt.co/39750/184-billion-bitcoi...</td>\n",
       "      <td>There will only ever be 21 million Bitcoin. We...</td>\n",
       "    </tr>\n",
       "  </tbody>\n",
       "</table>\n",
       "<p>5000 rows × 4 columns</p>\n",
       "</div>"
      ],
      "text/plain": [
       "                    date                                              title  \\\n",
       "0    2021-09-30 00:08:19  Why China's Latest 'Bitcoin Ban' Is Bullish fo...   \n",
       "1    2021-09-29 21:35:47  Why Anett Rolikova of Ethereum Magicians Doesn...   \n",
       "2    2021-09-29 21:01:08  Bitcoin DeFi? It's a Thing, Says Stacks Founde...   \n",
       "3    2021-09-29 19:36:02  PayPal, Google Execs to Help Bank of England '...   \n",
       "4    2021-09-29 18:28:59  Twitter Shares Sneak Peek of Its Ethereum NFT ...   \n",
       "...                  ...                                                ...   \n",
       "4995 2020-08-26 18:40:57  Coincheck Wants to Bring the IEO to Japanese C...   \n",
       "4996 2020-08-26 18:38:36  DeFi Die-Hards Call Time Out With 'Fair Launch...   \n",
       "4997 2020-08-26 18:13:06  Closure of Darknet Empire Market Believed to B...   \n",
       "4998 2020-08-26 15:55:23  Cardano Pays out Higher Staking Rewards Than E...   \n",
       "4999 2020-08-26 14:31:12        The Day Someone Created 184 Billion Bitcoin   \n",
       "\n",
       "                                                   link  \\\n",
       "0     https://wp.decrypt.co/82243/china-bans-bitcoin...   \n",
       "1     https://wp.decrypt.co/82234/why-anett-rolikova...   \n",
       "2     https://wp.decrypt.co/82019/bitcoin-defi-thing...   \n",
       "3     https://wp.decrypt.co/82223/bank-england-cbdc-...   \n",
       "4     https://wp.decrypt.co/82216/twitter-shares-sne...   \n",
       "...                                                 ...   \n",
       "4995  https://wp.decrypt.co/39894/coincheck-wants-to...   \n",
       "4996  https://wp.decrypt.co/39889/defi-die-hards-cal...   \n",
       "4997  https://wp.decrypt.co/39886/closure-darknet-em...   \n",
       "4998  https://wp.decrypt.co/39875/cardano-pays-out-h...   \n",
       "4999  https://wp.decrypt.co/39750/184-billion-bitcoi...   \n",
       "\n",
       "                                                content  \n",
       "0                                                   NaN  \n",
       "1     EIP-1559, the August  protocol change to \"burn...  \n",
       "2                                 BitcoinBitcoinBitcoin  \n",
       "3     The Bank of England today announced members of...  \n",
       "4     The Crypto Twitter elite either covet or derid...  \n",
       "...                                                 ...  \n",
       "4995  DeFi may be all the rage, but Japanese crypto ...  \n",
       "4996                                                NaN  \n",
       "4997  Empire Market, the largest darknet marketplace...  \n",
       "4998  At the end of last month,  shipped its highly ...  \n",
       "4999  There will only ever be 21 million Bitcoin. We...  \n",
       "\n",
       "[5000 rows x 4 columns]"
      ]
     },
     "execution_count": 18,
     "metadata": {},
     "output_type": "execute_result"
    }
   ],
   "source": [
    "df = pd.read_csv(\"../decrypt1000.csv\",parse_dates=[\"date\"])\n",
    "df"
   ]
  },
  {
   "cell_type": "code",
   "execution_count": 22,
   "id": "22f0906f",
   "metadata": {},
   "outputs": [
    {
     "data": {
      "text/plain": [
       "2453.491062308478"
      ]
     },
     "execution_count": 22,
     "metadata": {},
     "output_type": "execute_result"
    }
   ],
   "source": [
    "df[\"content\"].str.len().mean()"
   ]
  },
  {
   "cell_type": "code",
   "execution_count": null,
   "id": "b4b4f130",
   "metadata": {},
   "outputs": [],
   "source": []
  }
 ],
 "metadata": {
  "kernelspec": {
   "display_name": "Python 3",
   "language": "python",
   "name": "python3"
  },
  "language_info": {
   "codemirror_mode": {
    "name": "ipython",
    "version": 3
   },
   "file_extension": ".py",
   "mimetype": "text/x-python",
   "name": "python",
   "nbconvert_exporter": "python",
   "pygments_lexer": "ipython3",
   "version": "3.8.8"
  },
  "toc": {
   "base_numbering": 1,
   "nav_menu": {},
   "number_sections": true,
   "sideBar": true,
   "skip_h1_title": false,
   "title_cell": "Table of Contents",
   "title_sidebar": "Contents",
   "toc_cell": false,
   "toc_position": {},
   "toc_section_display": true,
   "toc_window_display": false
  }
 },
 "nbformat": 4,
 "nbformat_minor": 5
}
